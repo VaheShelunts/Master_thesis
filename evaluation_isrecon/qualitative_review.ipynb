{
 "cells": [
  {
   "cell_type": "code",
   "execution_count": 1,
   "metadata": {},
   "outputs": [],
   "source": [
    "import pandas as pd\n",
    "import warnings\n",
    "warnings.filterwarnings('ignore')\n",
    "import os"
   ]
  },
  {
   "cell_type": "code",
   "execution_count": 5,
   "metadata": {},
   "outputs": [],
   "source": [
    "ROOT_DIR = os.path.dirname(os.path.abspath(''))\n",
    "REVIEW_DIR = ROOT_DIR + '/evaluation_isrecon/Qualitative_review.xlsx'"
   ]
  },
  {
   "cell_type": "code",
   "execution_count": 6,
   "metadata": {},
   "outputs": [],
   "source": [
    "review1 = pd.read_excel(REVIEW_DIR, sheet_name='quality check 1', engine = 'openpyxl').iloc[0:100,0:6]\n",
    "review2 = pd.read_excel(REVIEW_DIR, sheet_name='quality check 2', engine = 'openpyxl').iloc[0:100,0:6]"
   ]
  },
  {
   "cell_type": "code",
   "execution_count": 7,
   "metadata": {},
   "outputs": [
    {
     "data": {
      "text/plain": [
       "Wrong FROM clause        19\n",
       "Wrong SELECT column      15\n",
       "DISTINCT operator        10\n",
       "JOIN clause               5\n",
       "Wrong WHERE value         4\n",
       "Missed SELECT column      2\n",
       "Wrong ORDER BY column     1\n",
       "Wrong WHERE column        1\n",
       "dtype: int64"
      ]
     },
     "execution_count": 7,
     "metadata": {},
     "output_type": "execute_result"
    }
   ],
   "source": [
    "wrong_preds1 = pd.value_counts(review1['Error linked to'].str.split(';', expand=True).values.flatten())\n",
    "wrong_preds1"
   ]
  },
  {
   "cell_type": "code",
   "execution_count": 8,
   "metadata": {},
   "outputs": [
    {
     "data": {
      "text/plain": [
       "Wrong WHERE value       25\n",
       "Wrong WHERE column       4\n",
       "Wrong SELECT column      2\n",
       "Missed WHERE column      2\n",
       "DISTINCT operator        2\n",
       "Wrong FROM clause        1\n",
       "Missed SELECT column     1\n",
       "dtype: int64"
      ]
     },
     "execution_count": 8,
     "metadata": {},
     "output_type": "execute_result"
    }
   ],
   "source": [
    "wrong_preds2 = pd.value_counts(review2['Error linked to'].str.split(';', expand=True).values.flatten())\n",
    "wrong_preds2"
   ]
  },
  {
   "cell_type": "code",
   "execution_count": 9,
   "metadata": {},
   "outputs": [
    {
     "name": "stdout",
     "output_type": "stream",
     "text": [
      "Number of wrong predictions per model run and category\n"
     ]
    },
    {
     "data": {
      "text/html": [
       "<div>\n",
       "<style scoped>\n",
       "    .dataframe tbody tr th:only-of-type {\n",
       "        vertical-align: middle;\n",
       "    }\n",
       "\n",
       "    .dataframe tbody tr th {\n",
       "        vertical-align: top;\n",
       "    }\n",
       "\n",
       "    .dataframe thead th {\n",
       "        text-align: right;\n",
       "    }\n",
       "</style>\n",
       "<table border=\"1\" class=\"dataframe\">\n",
       "  <thead>\n",
       "    <tr style=\"text-align: right;\">\n",
       "      <th></th>\n",
       "      <th>Model 1</th>\n",
       "      <th>Model 2</th>\n",
       "    </tr>\n",
       "  </thead>\n",
       "  <tbody>\n",
       "    <tr>\n",
       "      <th>Wrong FROM clause</th>\n",
       "      <td>19.0</td>\n",
       "      <td>1.0</td>\n",
       "    </tr>\n",
       "    <tr>\n",
       "      <th>Wrong SELECT column</th>\n",
       "      <td>15.0</td>\n",
       "      <td>2.0</td>\n",
       "    </tr>\n",
       "    <tr>\n",
       "      <th>DISTINCT operator</th>\n",
       "      <td>10.0</td>\n",
       "      <td>2.0</td>\n",
       "    </tr>\n",
       "    <tr>\n",
       "      <th>JOIN clause</th>\n",
       "      <td>5.0</td>\n",
       "      <td>0.0</td>\n",
       "    </tr>\n",
       "    <tr>\n",
       "      <th>Wrong WHERE value</th>\n",
       "      <td>4.0</td>\n",
       "      <td>25.0</td>\n",
       "    </tr>\n",
       "    <tr>\n",
       "      <th>Missed SELECT column</th>\n",
       "      <td>2.0</td>\n",
       "      <td>1.0</td>\n",
       "    </tr>\n",
       "    <tr>\n",
       "      <th>Wrong ORDER BY column</th>\n",
       "      <td>1.0</td>\n",
       "      <td>0.0</td>\n",
       "    </tr>\n",
       "    <tr>\n",
       "      <th>Wrong WHERE column</th>\n",
       "      <td>1.0</td>\n",
       "      <td>4.0</td>\n",
       "    </tr>\n",
       "    <tr>\n",
       "      <th>Missed WHERE column</th>\n",
       "      <td>0.0</td>\n",
       "      <td>2.0</td>\n",
       "    </tr>\n",
       "    <tr>\n",
       "      <th>Total</th>\n",
       "      <td>57.0</td>\n",
       "      <td>37.0</td>\n",
       "    </tr>\n",
       "  </tbody>\n",
       "</table>\n",
       "</div>"
      ],
      "text/plain": [
       "                       Model 1  Model 2\n",
       "Wrong FROM clause         19.0      1.0\n",
       "Wrong SELECT column       15.0      2.0\n",
       "DISTINCT operator         10.0      2.0\n",
       "JOIN clause                5.0      0.0\n",
       "Wrong WHERE value          4.0     25.0\n",
       "Missed SELECT column       2.0      1.0\n",
       "Wrong ORDER BY column      1.0      0.0\n",
       "Wrong WHERE column         1.0      4.0\n",
       "Missed WHERE column        0.0      2.0\n",
       "Total                     57.0     37.0"
      ]
     },
     "execution_count": 9,
     "metadata": {},
     "output_type": "execute_result"
    }
   ],
   "source": [
    "wrong_preds_sum = pd.concat([wrong_preds1, wrong_preds2], axis=1, keys= ['Model 1', 'Model 2']).sort_values(by = 'Model 1', ascending= False).fillna(0)\n",
    "wrong_preds_sum.loc['Total'] = wrong_preds_sum.sum()\n",
    "print(\"Number of wrong predictions per model run and category\")\n",
    "wrong_preds_sum"
   ]
  },
  {
   "cell_type": "code",
   "execution_count": null,
   "metadata": {},
   "outputs": [],
   "source": []
  }
 ],
 "metadata": {
  "interpreter": {
   "hash": "54676cebd2e3594d56c4f6c64ad83f55d2fbe2f4f36d232b90b4a8856cfddab2"
  },
  "kernelspec": {
   "display_name": "Python 3.8.10 64-bit ('my_venv': venv)",
   "language": "python",
   "name": "python3"
  },
  "language_info": {
   "codemirror_mode": {
    "name": "ipython",
    "version": 3
   },
   "file_extension": ".py",
   "mimetype": "text/x-python",
   "name": "python",
   "nbconvert_exporter": "python",
   "pygments_lexer": "ipython3",
   "version": "3.8.10"
  },
  "orig_nbformat": 4
 },
 "nbformat": 4,
 "nbformat_minor": 2
}
