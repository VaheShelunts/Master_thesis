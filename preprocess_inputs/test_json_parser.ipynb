{
 "cells": [
  {
   "cell_type": "markdown",
   "metadata": {},
   "source": [
    "SQL pairs components parsing for further model training and inference"
   ]
  },
  {
   "cell_type": "code",
   "execution_count": 2,
   "metadata": {},
   "outputs": [],
   "source": [
    "import sys\n",
    "sys.path.append('/home/shelunts/thesis/TabularSemantingParsing/')"
   ]
  },
  {
   "cell_type": "code",
   "execution_count": 3,
   "metadata": {},
   "outputs": [],
   "source": [
    "from parse_sql_one import get_schemas_from_json, Schema\n",
    "from process_sql import get_sql\n",
    "from get_tables import convert_fk_index, dump_db_json_schema\n",
    "import json\n",
    "import sqlite3\n",
    "from os.path import isfile, isdir, join, split, exists, splitext\n",
    "import pandas as pd\n",
    "import nltk\n",
    "import re"
   ]
  },
  {
   "cell_type": "code",
   "execution_count": 16,
   "metadata": {},
   "outputs": [
    {
     "data": {
      "text/plain": [
       "'/home/shelunts/thesis/TabularSemantingParsing/data/spider/dev.json'"
      ]
     },
     "execution_count": 16,
     "metadata": {},
     "output_type": "execute_result"
    }
   ],
   "source": [
    "ROOT_DIR = os.path.dirname(os.path.abspath(''))\n",
    "DATA_DIR = ROOT_DIR + '/data/spider/database/isrecon/isrecon.sqlite'\n",
    "SCHEMA_DIR = ROOT_DIR + '/data/spider/tables.json' \n",
    "SQL_DIR = ROOT_DIR + '/data/isrecon/isrecon/test_sql_pairs.sql'\n",
    "DEV_DIR = ROOT_DIR + '/data/spider/dev.json'\n",
    "DEV_DIR"
   ]
  },
  {
   "cell_type": "code",
   "execution_count": 5,
   "metadata": {},
   "outputs": [],
   "source": [
    "db_id = \"isrecon\"\n",
    "schemas, db_names, tables = get_schemas_from_json(SCHEMA_DIR)\n",
    "schema = schemas[db_id]\n",
    "table = tables[db_id]\n",
    "schema = Schema(schema, table)"
   ]
  },
  {
   "cell_type": "code",
   "execution_count": 10,
   "metadata": {},
   "outputs": [],
   "source": [
    "#opening the file with question-SQL pairs, extracting and parsing different components for json file\n",
    "with open(SQL_DIR, encoding='utf8') as f:\n",
    "    l = [line.rstrip('\\n') for line in f]\n",
    "queries = [re.sub(\";\",\"\",v) for i, v in enumerate(l) if i % 2 != 0] \n",
    "l = [v for i, v in enumerate(l) if i % 2 == 0] \n",
    "questions = [re.sub('^[^_]*:', '', line).strip() for line in l] #opening the file and selecting only lines that contain SQL queries\n",
    "question_toks = [nltk.word_tokenize(i) for i in questions] #tokenizing questions according to json format\n",
    "query_toks = [nltk.word_tokenize(i) for i in queries] #tokenizing queries according to json format\n",
    "parsed_sqls = [get_sql(schema, i) for i in queries] #parsing sql queries into the format specified in the json file"
   ]
  },
  {
   "cell_type": "code",
   "execution_count": 11,
   "metadata": {},
   "outputs": [
    {
     "data": {
      "text/plain": [
       "['What are the papers written by Dorothy Leidner?',\n",
       " 'How many papers did Dorothy Leidner write?',\n",
       " 'Who published the most papers in 2020?',\n",
       " 'How many papers were published by Dorothy Leidner in 2020?',\n",
       " 'What were the papers published by Dorothy Leidner in 2020?',\n",
       " 'How many papers were published in 2020?',\n",
       " 'Show the titles of all the published papers in 2020.',\n",
       " 'In how many journals did papers of Dorothy Leidner appear?',\n",
       " 'In which institutions  does Dorothy Leidner work?',\n",
       " 'In which institutions and departments does Dorothy Leidner work?',\n",
       " 'What is the number of dsr entities for Dorothy Leidner papers?',\n",
       " 'Which paper of Dorothy Leidner has the highest number of dsr entities?',\n",
       " 'List papers published in JIT journal.',\n",
       " 'How many papers are published in journal with acronym \"JIT\"?',\n",
       " 'How many papers were published in JIT journal in 2020?',\n",
       " 'How many papers were published in JIT journal this year?',\n",
       " 'How many papers were published in JIT journal last year?',\n",
       " 'How many papers were published by authors from TU Berlin?',\n",
       " 'What papers were published by authors from TU Berlin?',\n",
       " 'Which journal has the highest number of paper publications?',\n",
       " 'Which top 3 journals have the highest number of paper publications?',\n",
       " 'Which is the journal with highest number of paper publications?',\n",
       " 'What is the journal where most papers were published?',\n",
       " 'Which journal has the highest number of paper publications in 2020?',\n",
       " 'Which papers are published in Information Systems Research journal?',\n",
       " 'Which are the titles of  papers published in Information Systems Research journal??',\n",
       " 'Which are the papers published in  journal Information Systems Research in 2020?',\n",
       " 'Which references from Information Systems Research journal have the highest number of citations?',\n",
       " 'Which top 5 references from Information Systems Research journal have the highest number of citations?',\n",
       " 'What are the names and abstracts for papers published in Information Systems Research journal?',\n",
       " 'What are the names and abstracts of papers published in Information Systems Research journal in 2020?',\n",
       " 'Show titles and abstracts of papers published in 2020 in Information Systems Research journal.',\n",
       " 'Show titles of top 10 papers with highest number of citations in Information Systems Research journal.',\n",
       " 'In which journals do the papers by authors from Washington State University appear?',\n",
       " 'What are top 3 journals with published papers with highest number of citations?',\n",
       " 'What are the papers with no less than 100 citations?',\n",
       " 'List titles of the papers with at least 100 citations.',\n",
       " 'Show titles of reference papers that have at least 100 citations.',\n",
       " 'What are the titles of the referenced papers published in 2010 with at least 100 citations?',\n",
       " 'What are the papers published in journal European Journal Of Information Systems with at least 100 citations?',\n",
       " 'What are the papers published in European Journal Of Information Systems in 2018 with at least 100 citations?',\n",
       " 'What are the papers published by authors from Washington State University in 2020?',\n",
       " 'What are the references with less than 10 citations?',\n",
       " 'List references that have less than 10 citations.',\n",
       " 'What are the titles of top 5 papers published in 2021 that have the most citations?',\n",
       " 'Show titles and number of citations for top 5 papers published in 2020 with the highest number of citations.',\n",
       " 'Show journals available in the database.',\n",
       " 'The number of papers written by Zheng Wanhong.',\n",
       " 'Papers published by Dorothy Leidner in 2020?',\n",
       " 'Show journals in which papers written by Dorothy Leidner in 2020 were published.',\n",
       " 'Who is the author that published the highest number of papers in 2020?',\n",
       " 'List titles of papers that mention \"data science\" keyword.',\n",
       " 'Show paper titles that mention \"data science\" keyword.',\n",
       " 'What are the papers mentioning \"data science\" keyword?',\n",
       " 'In which papers \"data science\" keyword is mentioned.',\n",
       " 'How many papers mention \"data science\" keyword.',\n",
       " 'What is the number of papers mentioning \"data science\" keyword.',\n",
       " 'For each paper mentioning \"data science\" keyword show the title and abstract.',\n",
       " 'Show papers published in 2021 that mention \"data science\" keyword.',\n",
       " 'What are the papers published in 2021 mentioning data science?',\n",
       " 'In which papers from 2021 \"data science\" keyword is mentioned.',\n",
       " 'For each paper mentioning \"data science\" keyword show the title and abstract.',\n",
       " 'What are the keywords mentioned in the paper \"The challenge of defining information system\".',\n",
       " 'List the keywords mentioned in the paper \"The challenge of defining information system\".',\n",
       " 'How many keywords does the paper The challenge of defining information system\" have.',\n",
       " 'What are top 10 most common keywords from all papers.',\n",
       " 'What is the most common keyword.',\n",
       " 'List  journals that mention data science keyword.',\n",
       " 'What are the journals that mention \"data science\" keyword.',\n",
       " 'Show journals that mention \"natural language processing\" term.',\n",
       " 'Show paper titles that mention natural language processing.',\n",
       " 'Show abstracts of papers that mention natural language processing.',\n",
       " 'List 10 most common keywords of 2021 papers.',\n",
       " 'What are 10 most common keywords of 2021 papers?',\n",
       " 'What are 10 most common keywords of 2020 papers?',\n",
       " 'What are 10 most common keywords of 2014 papers?',\n",
       " 'What distinct journals are included in the database.',\n",
       " 'How many distinct journals are included in the database.',\n",
       " 'For each journal, list number of papers available in the database.',\n",
       " 'What are the biggest 3 journals in terms of numer of published papers there.',\n",
       " 'Which journals have more than 1000 papers published there.',\n",
       " 'From which journals are there papers in the database.',\n",
       " 'In which journals \"data science\" keyword is mentioned?',\n",
       " 'What are the journals mentioning \"data science\" keyword?',\n",
       " 'What is  the most common source type of reference citations.',\n",
       " 'What are the source types of reference citations.',\n",
       " 'For each source type of reference citations how many papers are available there.',\n",
       " 'What are top 3 journals with the highest number of reference citations taken.',\n",
       " 'What are the journals from which reference citations are taken.',\n",
       " 'For each journal of reference citations how many papers are available there.',\n",
       " 'Show journals with number of reference papers in descending order.',\n",
       " 'Authors from which top 10 institutions have the highest numbers of papers published?',\n",
       " 'How many paper are there in the database that were published in 2021?',\n",
       " 'What are the journals in which papers from 2021 were published.',\n",
       " 'For each journal name list the correponding journal akronym.',\n",
       " 'How many reference citations are taken from monographs.',\n",
       " 'What is the average number of dsr entities across all papers?',\n",
       " 'What is  the id of the paper with highest number of dsr entities.',\n",
       " 'Which keywords does the paper with id 4134 have?',\n",
       " 'What is the abstract of the the paper with id 4134?']"
      ]
     },
     "execution_count": 11,
     "metadata": {},
     "output_type": "execute_result"
    }
   ],
   "source": [
    "questions"
   ]
  },
  {
   "cell_type": "code",
   "execution_count": 12,
   "metadata": {},
   "outputs": [],
   "source": [
    "#creating keys for json file and respective values from different variables\n",
    "keys = ('db_id', 'question', 'question_toks',  'query', 'query_toks', 'sql')\n",
    "db_id = [db_id] * len(questions)\n",
    "test = list(zip(db_id, questions, question_toks, queries, query_toks, parsed_sqls))"
   ]
  },
  {
   "cell_type": "code",
   "execution_count": 13,
   "metadata": {},
   "outputs": [],
   "source": [
    "#creating a function that will convert tuples to list later\n",
    "def listit(t):\n",
    "    return list(map(listit, t)) if isinstance(t, (list, tuple)) else t"
   ]
  },
  {
   "cell_type": "code",
   "execution_count": 14,
   "metadata": {},
   "outputs": [],
   "source": [
    "#converting test json values from tuples into list\n",
    "test_list = []\n",
    "for i in test:\n",
    "    lst = listit(i)\n",
    "    test_list.append(lst)"
   ]
  },
  {
   "cell_type": "code",
   "execution_count": 15,
   "metadata": {},
   "outputs": [],
   "source": [
    "#creating the file with all json components\n",
    "list_json = []\n",
    "for key in range(len(questions)):\n",
    "        test_json = dict.fromkeys(keys)\n",
    "        test_json['db_id'] = test_list[key][0]\n",
    "        test_json['question'] = test_list[key][1]\n",
    "        test_json['question_toks'] = test_list[key][2]\n",
    "        test_json['query'] = test_list[key][3]\n",
    "        test_json['query_toks'] = test_list[key][4]\n",
    "        test_json['sql'] = test_list[key][5]\n",
    "        list_json.append(test_json)"
   ]
  },
  {
   "cell_type": "code",
   "execution_count": 43,
   "metadata": {},
   "outputs": [],
   "source": [
    "#test set should always be named dev.json\n",
    "with open(DEV_DIR, 'w') as test_file:\n",
    "    json.dump(list_json, test_file, indent=2, separators=(',', ': '))"
   ]
  },
  {
   "cell_type": "code",
   "execution_count": 47,
   "metadata": {},
   "outputs": [],
   "source": [
    "# train_spider = json.load(open('/home/shelunts/thesis/TabularSemantingParsing/data/spider/train_spider_full_test4.json'))\n",
    "# train_combined = list_json + train_spider\n",
    "# with open('/home/shelunts/thesis/TabularSemantingParsing/data/spider/train_spider&recon.json', 'w') as test_file:\n",
    "#     json.dump(train_combined, test_file, indent=2, separators=(',', ': '))"
   ]
  }
 ],
 "metadata": {
  "interpreter": {
   "hash": "d6383b96c7bfd207e4bb1cf434fbc5fb23558b8a220badf7cd0a3e835ae63c30"
  },
  "kernelspec": {
   "display_name": "Python 3.8.10 64-bit ('venv3810': venv)",
   "language": "python",
   "name": "python3"
  },
  "language_info": {
   "codemirror_mode": {
    "name": "ipython",
    "version": 3
   },
   "file_extension": ".py",
   "mimetype": "text/x-python",
   "name": "python",
   "nbconvert_exporter": "python",
   "pygments_lexer": "ipython3",
   "version": "3.8.10"
  },
  "orig_nbformat": 4
 },
 "nbformat": 4,
 "nbformat_minor": 2
}
